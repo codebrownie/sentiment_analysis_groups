{
 "cells": [
  {
   "cell_type": "markdown",
   "metadata": {},
   "source": [
    "# SENTIMENT ANALYSIS OF WHATSAPP MESSAGES "
   ]
  },
  {
   "cell_type": "markdown",
   "metadata": {},
   "source": [
    "> Grand Universal Goal : To assess a person by the kinds of words he/she uses - combining them with emotion, giving a headsup on what kind of intention the person has - positive, encouraging, negative, toxic etc.\n",
    "\n",
    "### Preparation \n",
    "* Milestone 1: Gather the emoticons used by the person.Frequency of emoticons\n",
    "* Milestone 2: Create a word cloud of a person. Provide a frequency of the vocabulary he/she used in the chat.\n",
    "\n",
    "### Next steps\n",
    "* Use any sentiment model to infer the strength and force of words in english context. \n",
    "\n",
    "\n",
    "\n",
    " "
   ]
  },
  {
   "cell_type": "code",
   "execution_count": 276,
   "metadata": {},
   "outputs": [
    {
     "name": "stdout",
     "output_type": "stream",
     "text": [
      "😀\n",
      "😆\n",
      "🤣\n"
     ]
    },
    {
     "data": {
      "text/plain": [
       "'None'"
      ]
     },
     "execution_count": 276,
     "metadata": {},
     "output_type": "execute_result"
    }
   ],
   "source": [
    "import pandas as pd\n",
    "import re\n",
    "import sys\n",
    "import emoji \n",
    "emo_dict = emoji.unicode_codes.UNICODE_EMOJI\n",
    "\n",
    "# grinning face \n",
    "print(\"\\U0001f600\") \n",
    "\n",
    "# grinning squinting face \n",
    "print(\"\\U0001F606\") \n",
    "\n",
    "# rolling on the floor laughing \n",
    "print(\"\\U0001F923\") \n",
    "\n",
    "def emo_check(ch,emo_dict):\n",
    "    try:\n",
    "        r = emo_dict[ch]\n",
    "    except:\n",
    "        r = \"None\"\n",
    "    return \"None\"\n",
    "\n",
    "emo_check('I',emo_dict)\n"
   ]
  },
  {
   "cell_type": "code",
   "execution_count": null,
   "metadata": {},
   "outputs": [],
   "source": [
    "# Insert whatsapp chat here. \n",
    "#Export the group chat from the phone and load it on the notebook\n",
    "# Get permissions if you are not a part of the group :) \n",
    "\n",
    "chat = pd.read_table('whatsapp.txt',header=0)"
   ]
  },
  {
   "cell_type": "code",
   "execution_count": 261,
   "metadata": {},
   "outputs": [],
   "source": [
    "df = pd.DataFrame(chat[chat.columns[0]].values,columns=['Raw'])"
   ]
  },
  {
   "cell_type": "code",
   "execution_count": 262,
   "metadata": {},
   "outputs": [],
   "source": [
    "# We first separate out the created, joined messages from the rest. \n",
    "#If there is no time bracket, we ignore that mesage for now. "
   ]
  },
  {
   "cell_type": "code",
   "execution_count": 263,
   "metadata": {},
   "outputs": [],
   "source": [
    "pattern = re.compile(\"\\[\\d\\d\\/\\d\\d\\/\\d\\d,\\s\\d\\d:\\d\\d:\\d\\d]\")              "
   ]
  },
  {
   "cell_type": "code",
   "execution_count": 265,
   "metadata": {},
   "outputs": [],
   "source": [
    "df['New'] = df.Raw.apply(lambda y: pattern.findall(y))\n",
    "#df_new = df[df.New !=\"[]\"]\n",
    "df['New'] = df.New.apply(str)\n",
    "df_new = df[df.New != '[]']"
   ]
  },
  {
   "cell_type": "code",
   "execution_count": 266,
   "metadata": {},
   "outputs": [
    {
     "name": "stderr",
     "output_type": "stream",
     "text": [
      "/Users/machinelearning/anaconda3/envs/chatbot/lib/python3.6/site-packages/ipykernel_launcher.py:2: SettingWithCopyWarning: \n",
      "A value is trying to be set on a copy of a slice from a DataFrame.\n",
      "Try using .loc[row_indexer,col_indexer] = value instead\n",
      "\n",
      "See the caveats in the documentation: http://pandas.pydata.org/pandas-docs/stable/user_guide/indexing.html#returning-a-view-versus-a-copy\n",
      "  \n"
     ]
    }
   ],
   "source": [
    "#Extract messages and names\n",
    "df_new['Number'] = df_new.Raw.apply(lambda y: pattern.split(y)[1].split(':')[0])"
   ]
  },
  {
   "cell_type": "code",
   "execution_count": 267,
   "metadata": {},
   "outputs": [
    {
     "name": "stderr",
     "output_type": "stream",
     "text": [
      "/Users/machinelearning/anaconda3/envs/chatbot/lib/python3.6/site-packages/ipykernel_launcher.py:7: SettingWithCopyWarning: \n",
      "A value is trying to be set on a copy of a slice from a DataFrame.\n",
      "Try using .loc[row_indexer,col_indexer] = value instead\n",
      "\n",
      "See the caveats in the documentation: http://pandas.pydata.org/pandas-docs/stable/user_guide/indexing.html#returning-a-view-versus-a-copy\n",
      "  import sys\n"
     ]
    }
   ],
   "source": [
    "def pat_s(text,pattern):\n",
    "    try:\n",
    "        p = pattern.split(text)[1].split(':')[1]\n",
    "    except:\n",
    "        p = \"\"\n",
    "    return p\n",
    "df_new['Message'] = df_new.Raw.apply(lambda y: pat_s(y,pattern))"
   ]
  },
  {
   "cell_type": "code",
   "execution_count": 268,
   "metadata": {},
   "outputs": [
    {
     "name": "stderr",
     "output_type": "stream",
     "text": [
      "/Users/machinelearning/anaconda3/envs/chatbot/lib/python3.6/site-packages/ipykernel_launcher.py:2: SettingWithCopyWarning: \n",
      "A value is trying to be set on a copy of a slice from a DataFrame.\n",
      "Try using .loc[row_indexer,col_indexer] = value instead\n",
      "\n",
      "See the caveats in the documentation: http://pandas.pydata.org/pandas-docs/stable/user_guide/indexing.html#returning-a-view-versus-a-copy\n",
      "  \n"
     ]
    }
   ],
   "source": [
    "df_messages = df_new[df_new.Message !=\"\"]\n",
    "df_messages['Number']  = df_messages['Number'].apply(str)"
   ]
  },
  {
   "cell_type": "code",
   "execution_count": 270,
   "metadata": {},
   "outputs": [
    {
     "name": "stderr",
     "output_type": "stream",
     "text": [
      "/Users/machinelearning/anaconda3/envs/chatbot/lib/python3.6/site-packages/ipykernel_launcher.py:7: SettingWithCopyWarning: \n",
      "A value is trying to be set on a copy of a slice from a DataFrame.\n",
      "Try using .loc[row_indexer,col_indexer] = value instead\n",
      "\n",
      "See the caveats in the documentation: http://pandas.pydata.org/pandas-docs/stable/user_guide/indexing.html#returning-a-view-versus-a-copy\n",
      "  import sys\n"
     ]
    }
   ],
   "source": [
    "# Group by the messages with phone numbers as index\n",
    "#Remove unicode characters\n",
    "start = '\\u202a'\n",
    "end = '\\u202c'\n",
    "center = '\\xa0'\n",
    "\n",
    "df_messages['Number'] = df_messages.Number.apply(lambda y: y.replace(start,'').replace(end,'').replace(center,''))\n",
    "phone_numbers= list(df_messages.Number.unique())\n"
   ]
  },
  {
   "cell_type": "code",
   "execution_count": 233,
   "metadata": {},
   "outputs": [],
   "source": [
    "mes = {}\n",
    "for p in phone_numbers:\n",
    "    ms = \"\"\n",
    "    for m in df_messages[df_messages.Number==p].Message.values.tolist():\n",
    "        m = m.replace(\"\\u200e\",\"\")\n",
    "        ms+=\" \"+m\n",
    "    mes[p]=ms\n",
    "\n"
   ]
  },
  {
   "cell_type": "code",
   "execution_count": 257,
   "metadata": {},
   "outputs": [
    {
     "data": {
      "text/plain": [
       "0"
      ]
     },
     "execution_count": 257,
     "metadata": {},
     "output_type": "execute_result"
    }
   ],
   "source": [
    "#Testing the set \n",
    "a= list(emo_dict.keys())\n",
    "b = ['ffd']\n",
    "len(set(a) & set(b))"
   ]
  },
  {
   "cell_type": "code",
   "execution_count": 273,
   "metadata": {},
   "outputs": [],
   "source": [
    "char_phones = {}\n",
    "for p in phone_numbers:\n",
    "    #print(text)\n",
    "    #print(p)\n",
    "    t_list = mes[p].split()\n",
    "    tk = [i for i in t_list if len(i)==1]\n",
    "    #print(tk)\n",
    "    t_emo = set(tk) & set(emo_dict.keys())\n",
    "    if len(t_emo)!=0:\n",
    "        char_phones[p] = t_emo\n",
    "    del t_list, tk ,t_emo"
   ]
  },
  {
   "cell_type": "markdown",
   "metadata": {},
   "source": [
    "\n",
    "## Question: WHO LIKES TO PLAY WITH EMOTICONS\n",
    "\n"
   ]
  },
  {
   "cell_type": "code",
   "execution_count": 286,
   "metadata": {},
   "outputs": [],
   "source": [
    "#Match the set of emotions with the frequency of occurance - \n",
    "#frequency of occurance for each emoticon. \n",
    "\n",
    "\"\"\"\n",
    "Number of unique emotions displayed by the user\n",
    "\"\"\"\n",
    "emo_len = {}\n",
    "for p in char_phones.keys():\n",
    "    emo_len[p] = len(char_phones[p])\n"
   ]
  },
  {
   "cell_type": "code",
   "execution_count": 317,
   "metadata": {},
   "outputs": [],
   "source": [
    "emo_df = pd.DataFrame([emo_len]).T"
   ]
  },
  {
   "cell_type": "code",
   "execution_count": 318,
   "metadata": {},
   "outputs": [],
   "source": [
    "emo_df = emo_df.rename(columns={0:'Unique_emo'})\n",
    "emo_df = emo_df.sort_values(by=[\"Unique_emo\"],ascending=False)\n"
   ]
  },
  {
   "cell_type": "code",
   "execution_count": null,
   "metadata": {},
   "outputs": [],
   "source": [
    "#You may print it too. \n",
    "\n",
    "print(\"User who likes to use a range of emoticons {} : {} \".format(emo_df.index[0], emo_df.iloc[0].Unique_emo))\n",
    "print(\"Range of emotions displayed:\\n {} \".format(char_phones[emo_df.index[0]]))"
   ]
  },
  {
   "cell_type": "code",
   "execution_count": null,
   "metadata": {},
   "outputs": [],
   "source": []
  },
  {
   "cell_type": "code",
   "execution_count": null,
   "metadata": {},
   "outputs": [],
   "source": []
  }
 ],
 "metadata": {
  "kernelspec": {
   "display_name": "Python 3",
   "language": "python",
   "name": "python3"
  },
  "language_info": {
   "codemirror_mode": {
    "name": "ipython",
    "version": 3
   },
   "file_extension": ".py",
   "mimetype": "text/x-python",
   "name": "python",
   "nbconvert_exporter": "python",
   "pygments_lexer": "ipython3",
   "version": "3.6.9"
  }
 },
 "nbformat": 4,
 "nbformat_minor": 2
}
